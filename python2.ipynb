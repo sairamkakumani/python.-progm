{
 "cells": [
  {
   "cell_type": "code",
   "execution_count": 1,
   "metadata": {},
   "outputs": [
    {
     "name": "stdout",
     "output_type": "stream",
     "text": [
      "helloworld\n"
     ]
    }
   ],
   "source": [
    "#1. WAS to print 'helloworld' by using shell.\n",
    "a='helloworld'\n",
    "print(a)"
   ]
  },
  {
   "cell_type": "code",
   "execution_count": 2,
   "metadata": {},
   "outputs": [
    {
     "name": "stdout",
     "output_type": "stream",
     "text": [
      "helloworld\n"
     ]
    }
   ],
   "source": [
    "#2. WAS to print 'helloworld' by using print function.\n",
    "a='helloworld'\n",
    "print(a)"
   ]
  },
  {
   "cell_type": "code",
   "execution_count": 3,
   "metadata": {},
   "outputs": [
    {
     "name": "stdout",
     "output_type": "stream",
     "text": [
      "50\n"
     ]
    }
   ],
   "source": [
    "#3. WAS to initialize variable and value as 50.\n",
    "a=50\n",
    "print(a)"
   ]
  },
  {
   "cell_type": "code",
   "execution_count": 4,
   "metadata": {},
   "outputs": [
    {
     "name": "stdout",
     "output_type": "stream",
     "text": [
      "150 120 250\n"
     ]
    }
   ],
   "source": [
    "#4. WAS to initialize multivariables values as 150,120,250,take your own variables.\n",
    "a,b,c = 150,120,250\n",
    "print(a,b,c)"
   ]
  },
  {
   "cell_type": "code",
   "execution_count": 5,
   "metadata": {},
   "outputs": [
    {
     "name": "stdout",
     "output_type": "stream",
     "text": [
      "<class 'tuple'>\n",
      "<class 'list'>\n"
     ]
    }
   ],
   "source": [
    "#5. WAS to print the type of the data in given value.\n",
    "a=(10,20)\n",
    "b=[10,20]\n",
    "print(type(a))\n",
    "print(type(b))"
   ]
  },
  {
   "cell_type": "code",
   "execution_count": 6,
   "metadata": {},
   "outputs": [
    {
     "name": "stdout",
     "output_type": "stream",
     "text": [
      "1863343649216\n"
     ]
    }
   ],
   "source": [
    "#6. WAS to print address of the memory block in given value.\n",
    "a=[1,2,3]\n",
    "print(id(a))"
   ]
  },
  {
   "cell_type": "code",
   "execution_count": 7,
   "metadata": {},
   "outputs": [
    {
     "name": "stdout",
     "output_type": "stream",
     "text": [
      "shahed\n",
      "['name', 'age', 'place']\n",
      "['shahed', 22, 'MBNR']\n",
      "[('name', 'shahed'), ('age', 22), ('place', 'MBNR')]\n"
     ]
    }
   ],
   "source": [
    "#7. WAS to print your details,first store your details,extract the values and display it.\n",
    "a={'name':'shahed','age':22,'place':'MBNR'}\n",
    "print(a['name'])\n",
    "print(list(a.keys()))\n",
    "print(list(a.values()))\n",
    "print((list(a.items())))\n"
   ]
  },
  {
   "cell_type": "code",
   "execution_count": 8,
   "metadata": {},
   "outputs": [
    {
     "name": "stdout",
     "output_type": "stream",
     "text": [
      "bye hai\n"
     ]
    }
   ],
   "source": [
    "#8. WAS to swap the two values with a temp variable.\n",
    "a='hai'\n",
    "b='bye'\n",
    "temp=a\n",
    "a=b\n",
    "b=temp\n",
    "print(a,b)"
   ]
  },
  {
   "cell_type": "code",
   "execution_count": 9,
   "metadata": {},
   "outputs": [
    {
     "name": "stdout",
     "output_type": "stream",
     "text": [
      "20 10\n"
     ]
    }
   ],
   "source": [
    "#9. WAS to swap the two values without a temp variable.\n",
    "a=10\n",
    "b=20\n",
    "a,b=b,a\n",
    "print(a,b)"
   ]
  },
  {
   "cell_type": "code",
   "execution_count": 10,
   "metadata": {},
   "outputs": [
    {
     "name": "stdout",
     "output_type": "stream",
     "text": [
      "qspiders\n",
      "[10, 20]\n"
     ]
    }
   ],
   "source": [
    "#10. WAS to initialize a value and print the value, after print the value then reinitialize the new value to the existing variable and display the value.\n",
    "a={'a':'qspiders'}\n",
    "print(a['a'])\n",
    "a=[10,20]\n",
    "print(a)"
   ]
  },
  {
   "cell_type": "code",
   "execution_count": 11,
   "metadata": {},
   "outputs": [
    {
     "name": "stdout",
     "output_type": "stream",
     "text": [
      "['1', '5', '0']\n"
     ]
    }
   ],
   "source": [
    "#11. WAS to convert single value to multi value datatype.\n",
    "a=150\n",
    "print(list(str(a)))"
   ]
  },
  {
   "cell_type": "code",
   "execution_count": 12,
   "metadata": {},
   "outputs": [
    {
     "name": "stdout",
     "output_type": "stream",
     "text": [
      "helloworld\n",
      "[10, 20, 30, 'h', 'a', 'i']\n",
      "[100, 200, 300, 400, 500]\n",
      "[1, 2, 3, 'a', 'b']\n",
      "['a', 'b', 'c', 'd', 'e']\n"
     ]
    }
   ],
   "source": [
    "#12. WAS to concat the two multi value data types(str,list,tuple,set,dict).\n",
    "#(a)concat 2 strings\n",
    "a='hello'\n",
    "a+='world'\n",
    "print(a)\n",
    "#(b) concat list with string\n",
    "b=[10,20,30]\n",
    "b+='hai'\n",
    "print(b)\n",
    "#(c) list with tuple\n",
    "c=[100,200,300]\n",
    "c+=(400,500)\n",
    "print(c)\n",
    "#(d) tuple with list is not possible directly. indirectly it is possible i.e; by using typecasting\n",
    "\n",
    "#(e) list with dict\n",
    "e=[1,2,3]\n",
    "e+={'a':4,'b':5}\n",
    "print(e)\n",
    "#(f) list with set\n",
    "f=['a','b','c']\n",
    "f+={'d','e'}\n",
    "print(f)\n"
   ]
  },
  {
   "cell_type": "code",
   "execution_count": 13,
   "metadata": {},
   "outputs": [
    {
     "name": "stdout",
     "output_type": "stream",
     "text": [
      "10\n",
      "3\n"
     ]
    }
   ],
   "source": [
    "#13. WAS to check the length of the collection.\n",
    "a='helloworld'\n",
    "print(len(a))\n",
    "b=(10,20,30)\n",
    "print(len(b))"
   ]
  },
  {
   "cell_type": "code",
   "execution_count": 14,
   "metadata": {},
   "outputs": [
    {
     "name": "stdout",
     "output_type": "stream",
     "text": [
      "30\n",
      "l\n"
     ]
    }
   ],
   "source": [
    "#14. WAS to check find out the middle value of given collection.\n",
    "a=[10,20,30,40,50]\n",
    "print(a[len(a)//2])\n",
    "b='hello'\n",
    "print(b[len(b)//2])\n"
   ]
  },
  {
   "cell_type": "code",
   "execution_count": 15,
   "metadata": {},
   "outputs": [
    {
     "name": "stdout",
     "output_type": "stream",
     "text": [
      "helloworld\n"
     ]
    }
   ],
   "source": [
    "#15. WAS to concat the new string into the strarting of given string.\n",
    "a='world'\n",
    "a='hello'+a\n",
    "print(a)"
   ]
  },
  {
   "cell_type": "code",
   "execution_count": 16,
   "metadata": {},
   "outputs": [
    {
     "name": "stdout",
     "output_type": "stream",
     "text": [
      "helloworld\n"
     ]
    }
   ],
   "source": [
    "#16. WAS to concat the new string into the ending of the given string.\n",
    "a='hello'\n",
    "a+='world'\n",
    "print(a)"
   ]
  },
  {
   "cell_type": "code",
   "execution_count": 17,
   "metadata": {},
   "outputs": [
    {
     "name": "stdout",
     "output_type": "stream",
     "text": [
      "hey how r u\n",
      "[1, 2, 3, 10, 20, 4, 5, 6]\n"
     ]
    }
   ],
   "source": [
    "#17. WAS to concat the new string into the middle of the given string.\n",
    "a='hey r u'\n",
    "a=a[0:len(a)//2]+' how'+a[len(a)//2:]\n",
    "print(a)\n",
    "\n",
    "b=[1,2,3,4,5,6]\n",
    "b=b[0:len(b)//2]+[10,20]+b[len(b)//2:]\n",
    "print(b)"
   ]
  },
  {
   "cell_type": "code",
   "execution_count": 18,
   "metadata": {},
   "outputs": [
    {
     "name": "stdout",
     "output_type": "stream",
     "text": [
      "pysplders\n"
     ]
    }
   ],
   "source": [
    "#18. WAS to modify the new character into the middle of the given string.\n",
    "a='pyspiders'\n",
    "a=a[0:len(a)//2]+'l'+a[len(a)//2+1:]\n",
    "print(a)"
   ]
  },
  {
   "cell_type": "code",
   "execution_count": 19,
   "metadata": {},
   "outputs": [
    {
     "name": "stdout",
     "output_type": "stream",
     "text": [
      "pySPIders\n"
     ]
    }
   ],
   "source": [
    "#19. WAS to modify the sequence of characters in given string.\n",
    "a='pyspiders'\n",
    "a=a[0:2]+'SPI'+a[5:]\n",
    "print(a)"
   ]
  },
  {
   "cell_type": "code",
   "execution_count": 20,
   "metadata": {},
   "outputs": [
    {
     "name": "stdout",
     "output_type": "stream",
     "text": [
      "helloWorld\n"
     ]
    }
   ],
   "source": [
    "#20. WAS to replace the old character into the new character of the given string.\n",
    "a='helloworld'\n",
    "a=a[0:5]+'W'+a[6:]\n",
    "print(a)\n"
   ]
  },
  {
   "cell_type": "code",
   "execution_count": 21,
   "metadata": {},
   "outputs": [
    {
     "name": "stdout",
     "output_type": "stream",
     "text": [
      "pyspders\n"
     ]
    }
   ],
   "source": [
    "#21. WAS to delete the specific character in the given string.\n",
    "a='pyspiders'\n",
    "a=a[0:4]+a[5:]\n",
    "print(a)\n"
   ]
  },
  {
   "cell_type": "code",
   "execution_count": 22,
   "metadata": {},
   "outputs": [
    {
     "name": "stdout",
     "output_type": "stream",
     "text": [
      "pyspiders qspiders\n"
     ]
    }
   ],
   "source": [
    "#22. WAS to concat the new string into the specific position of the given string.\n",
    "a='pyspidersders'\n",
    "a=a[0:9]+' qspi'+a[9:]\n",
    "print(a)\n"
   ]
  },
  {
   "cell_type": "code",
   "execution_count": 24,
   "metadata": {},
   "outputs": [
    {
     "name": "stdout",
     "output_type": "stream",
     "text": [
      "how you\n"
     ]
    }
   ],
   "source": [
    "#23. WAS to delete the sequence of characters in the given string.\n",
    "a='how are you'\n",
    "a=a[0:4]+a[8:]\n",
    "print(a)\n"
   ]
  },
  {
   "cell_type": "code",
   "execution_count": 26,
   "metadata": {},
   "outputs": [
    {
     "name": "stdout",
     "output_type": "stream",
     "text": [
      "[10, 20, 30, 40, 50]\n"
     ]
    }
   ],
   "source": [
    "#24. WAS to concat the new value into the starting of the given list.\n",
    "a=[30,40,50]\n",
    "a[0:0]=[10,20]\n",
    "print(a)\n"
   ]
  },
  {
   "cell_type": "code",
   "execution_count": 27,
   "metadata": {},
   "outputs": [
    {
     "name": "stdout",
     "output_type": "stream",
     "text": [
      "[10, 20, 'hai', 'how', 'are', 'you', 40]\n",
      "[10, 20, 'hai', 'how', 'are', 'you', 40]\n"
     ]
    }
   ],
   "source": [
    "#25. WAS to concat the new value into the ending of the given list.\n",
    "a=[10,20,'hai']\n",
    "a+=['how','are','you',40]\n",
    "print(a)\n",
    "\n",
    "#(OR)\n",
    "\n",
    "b=[10,20,'hai']\n",
    "b[3:3]=['how','are','you',40]\n",
    "print(b) "
   ]
  },
  {
   "cell_type": "code",
   "execution_count": 28,
   "metadata": {},
   "outputs": [
    {
     "name": "stdout",
     "output_type": "stream",
     "text": [
      "[10, 20, 'hello', 'how', 'are', 'you']\n"
     ]
    }
   ],
   "source": [
    "#26. WAS to concat the new value into the middle of the given list.\n",
    "a=[10,20,'how','are','you']\n",
    "a[len(a)//2:len(a)//2]=['hello']\n",
    "print(a)\n"
   ]
  },
  {
   "cell_type": "code",
   "execution_count": 29,
   "metadata": {},
   "outputs": [
    {
     "name": "stdout",
     "output_type": "stream",
     "text": [
      "[10, 20, 'a', 'b', 30, 40]\n"
     ]
    }
   ],
   "source": [
    "#27. WAS to concat the new value to the specific position of the given list.\n",
    "a=[10,20,30,40]\n",
    "a[2:2]=['a','b']\n",
    "print(a)"
   ]
  },
  {
   "cell_type": "code",
   "execution_count": 30,
   "metadata": {},
   "outputs": [
    {
     "name": "stdout",
     "output_type": "stream",
     "text": [
      "[10, 20, 'a', 40, 50]\n"
     ]
    }
   ],
   "source": [
    "#28. WAS to modify the new values into the specific position of the given list.\n",
    "a=[10,20,30,40,50]\n",
    "a[2]='a'\n",
    "print(a)"
   ]
  },
  {
   "cell_type": "code",
   "execution_count": 31,
   "metadata": {},
   "outputs": [
    {
     "name": "stdout",
     "output_type": "stream",
     "text": [
      "[0, 2, 3, 4]\n"
     ]
    }
   ],
   "source": [
    "#29. WAS to modify the new value into the starting of the given list.\n",
    "a=[1,2,3,4]\n",
    "a[0]=0\n",
    "print(a)\n"
   ]
  },
  {
   "cell_type": "code",
   "execution_count": 32,
   "metadata": {},
   "outputs": [
    {
     "name": "stdout",
     "output_type": "stream",
     "text": [
      "['a', 'b', True, None, False]\n"
     ]
    }
   ],
   "source": [
    "#30. WAS to modify new value into the ending of the given list.\n",
    "a=['a','b',True,None,100]\n",
    "a[-1]=False\n",
    "print(a)"
   ]
  },
  {
   "cell_type": "code",
   "execution_count": 33,
   "metadata": {},
   "outputs": [
    {
     "name": "stdout",
     "output_type": "stream",
     "text": [
      "[1, 2, [3, 4], 5, 6]\n"
     ]
    }
   ],
   "source": [
    "#31. WAS to modify the new value into the middle of the given list.\n",
    "a=[1,2,'a',5,6]\n",
    "a[len(a)//2]=[3,4]\n",
    "print(a)"
   ]
  },
  {
   "cell_type": "code",
   "execution_count": 34,
   "metadata": {},
   "outputs": [
    {
     "name": "stdout",
     "output_type": "stream",
     "text": [
      "['a', 'b', 'c', 'd', 'e', 'f']\n"
     ]
    }
   ],
   "source": [
    "#32. WAS to modify the first 4 position values into the given list.\n",
    "a=[1,2,3,4,'e','f']\n",
    "a[0:4]=['a','b','c','d']\n",
    "print(a)\n"
   ]
  },
  {
   "cell_type": "code",
   "execution_count": 35,
   "metadata": {},
   "outputs": [
    {
     "name": "stdout",
     "output_type": "stream",
     "text": [
      "[1, 'a', 3, 'b', 5, 'c', 7, 'd']\n"
     ]
    }
   ],
   "source": [
    "#33. WAS to modify the sequence of values into a given list.\n",
    "a=[1,2,3,4,5,6,7,8]\n",
    "a[1::2]=['a','b','c','d']\n",
    "print(a)\n"
   ]
  },
  {
   "cell_type": "code",
   "execution_count": 36,
   "metadata": {},
   "outputs": [
    {
     "name": "stdout",
     "output_type": "stream",
     "text": [
      "[1, 3, 'b', 'c', 7, 'd']\n"
     ]
    }
   ],
   "source": [
    "#34. WAS to delete the values in the specific position of the given list.\n",
    "a=[1, 'a', 3, 'b', 5, 'c', 7, 'd']\n",
    "del a[1]\n",
    "del a[3]\n",
    "print(a)\n"
   ]
  },
  {
   "cell_type": "code",
   "execution_count": 37,
   "metadata": {},
   "outputs": [
    {
     "name": "stdout",
     "output_type": "stream",
     "text": [
      "[1, 3, 4, 5, 16, 7, 64, 6, 81, 15]\n",
      "[1, 3, 4, 5, 16, 7, 64, 6, 81, 15]\n"
     ]
    }
   ],
   "source": [
    "#34. WAS to modify the values at specific positions in a given list by using updation.\n",
    "a=[1,3,2,5,4,7,8,6,9,15]\n",
    "a[2::2]=[4,16,64,81]\n",
    "print(a)\n",
    "#OR\n",
    "b=[1,3,2,5,4,7,8,6,9,15]\n",
    "b[2]=b[2]**2\n",
    "b[4]=b[4]**2\n",
    "b[6]=b[6]**2\n",
    "b[8]=b[8]**2\n",
    "print(b)\n"
   ]
  },
  {
   "cell_type": "code",
   "execution_count": 38,
   "metadata": {},
   "outputs": [
    {
     "name": "stdout",
     "output_type": "stream",
     "text": [
      "[1, 2, 3, 4]\n"
     ]
    }
   ],
   "source": [
    "#35. WAS to delete the new value into the ending of list.\n",
    "a=[1,2,3,4,5]\n",
    "del a[-1]\n",
    "print(a)\n"
   ]
  },
  {
   "cell_type": "code",
   "execution_count": 39,
   "metadata": {},
   "outputs": [
    {
     "name": "stdout",
     "output_type": "stream",
     "text": [
      "[2, 3, 4, 5]\n"
     ]
    }
   ],
   "source": [
    "#36. WAS to delete the new value into the starting of list.\n",
    "a=[1,2,3,4,5]\n",
    "del a[0]\n",
    "print(a)\n"
   ]
  },
  {
   "cell_type": "code",
   "execution_count": 40,
   "metadata": {},
   "outputs": [
    {
     "name": "stdout",
     "output_type": "stream",
     "text": [
      "[1, 2, 4, 5]\n"
     ]
    }
   ],
   "source": [
    "#37. WAS to delete the values into the middle of list.\n",
    "a=[1,2,3,4,5]\n",
    "del a[len(a)//2]\n",
    "print(a)"
   ]
  },
  {
   "cell_type": "code",
   "execution_count": 41,
   "metadata": {},
   "outputs": [
    {
     "name": "stdout",
     "output_type": "stream",
     "text": [
      "('a', 'b', 1, 2, 3, 4, 5, 6)\n"
     ]
    }
   ],
   "source": [
    "#38. WAS to concat the new value into starting of tuple.\n",
    "a=(1,2,3,4,5,6)\n",
    "a=('a','b')+a\n",
    "print(a)\n"
   ]
  },
  {
   "cell_type": "code",
   "execution_count": 42,
   "metadata": {},
   "outputs": [
    {
     "name": "stdout",
     "output_type": "stream",
     "text": [
      "(1, 2, 3, 'a', 'b', 4, 5, 6)\n"
     ]
    }
   ],
   "source": [
    "#39. WAS to concat the new value into middle of tuple.\n",
    "a=(1,2,3,4,5,6)\n",
    "a=a[0:len(a)//2]+('a','b')+a[len(a)//2:]\n",
    "print(a)\n"
   ]
  },
  {
   "cell_type": "code",
   "execution_count": 43,
   "metadata": {},
   "outputs": [
    {
     "name": "stdout",
     "output_type": "stream",
     "text": [
      "(1, 2, 3, 4, 5, 6, 7, 8)\n"
     ]
    }
   ],
   "source": [
    "#40. WAS to concat the new value into ending of tuple.\n",
    "a=(1,2,3,4,5,6)\n",
    "a+=(7,8)\n",
    "print(a)"
   ]
  },
  {
   "cell_type": "code",
   "execution_count": 1,
   "metadata": {},
   "outputs": [
    {
     "name": "stdout",
     "output_type": "stream",
     "text": [
      "(1, 2, 'a', 'b', 5, 6)\n"
     ]
    }
   ],
   "source": [
    "#41. WAS to modify the sequence of values in given tuple.\n",
    "a=(1,2,3,4,5,6)\n",
    "a=a[0:2]+('a','b')+a[4:]\n",
    "print(a)"
   ]
  },
  {
   "cell_type": "code",
   "execution_count": 1,
   "metadata": {},
   "outputs": [
    {
     "name": "stdout",
     "output_type": "stream",
     "text": [
      "{1, 2, 3, 4, 5, 6, 10, 'A', 20}\n"
     ]
    }
   ],
   "source": [
    "#43. WAS to concat the new value into the set.\n",
    "a={1,2,3,4,5,6}\n",
    "a|={10,20,'A'}\n",
    "print(a)\n"
   ]
  },
  {
   "cell_type": "code",
   "execution_count": 1,
   "metadata": {},
   "outputs": [
    {
     "name": "stdout",
     "output_type": "stream",
     "text": [
      "{1, 2, 3}\n",
      "{1, 2, 3}\n"
     ]
    }
   ],
   "source": [
    "#44. WAS to delete the specific value into the set.\n",
    "a={1,2,3,4,5,6}\n",
    "a=a-{4,5,6}\n",
    "print(a)\n",
    "#OR\n",
    "a={1,2,3,4,5,6}\n",
    "a-={4,5,6}\n",
    "print(a)\n"
   ]
  },
  {
   "cell_type": "code",
   "execution_count": 2,
   "metadata": {},
   "outputs": [
    {
     "name": "stdout",
     "output_type": "stream",
     "text": [
      "{'name': 'shahed', 'age': 22, 'place': 'MBNR'}\n",
      "{'name': 'shahed', 'age': 22, 'place': 'MBNR'}\n"
     ]
    }
   ],
   "source": [
    "#45. WAS to concat the new key and value into the given dict.\n",
    "s={'name':'shahed','age':22}\n",
    "s['place']='MBNR'\n",
    "print(s)\n",
    "#OR\n",
    "s={'name':'shahed','age':22}\n",
    "t={'place':'MBNR'}\n",
    "s|=t\n",
    "print(s)\n"
   ]
  },
  {
   "cell_type": "code",
   "execution_count": 3,
   "metadata": {},
   "outputs": [
    {
     "name": "stdout",
     "output_type": "stream",
     "text": [
      "{'name': 'shahed', 'age': 22, 'place': 'MBNR'}\n",
      "{'name': 'shahed', 'age': 22, 'place': 'MBNR'}\n"
     ]
    }
   ],
   "source": [
    "#45. WAS to concat the new key and value into the given dict.\n",
    "s={'name':'shahed','age':22}\n",
    "s['place']='MBNR'\n",
    "print(s)\n",
    "#OR\n",
    "s={'name':'shahed','age':22}\n",
    "t={'place':'MBNR'}\n",
    "s|=t\n",
    "print(s)\n"
   ]
  },
  {
   "cell_type": "code",
   "execution_count": 4,
   "metadata": {},
   "outputs": [
    {
     "name": "stdout",
     "output_type": "stream",
     "text": [
      "{'name': 'shahed', 'place': 'MBNR'}\n"
     ]
    }
   ],
   "source": [
    "#46. WAS to delete the specific key and value in the given dict.\n",
    "a={'name': 'shahed', 'age': 22, 'place': 'MBNR'}\n",
    "del a['age']\n",
    "print(a)"
   ]
  },
  {
   "cell_type": "code",
   "execution_count": 6,
   "metadata": {},
   "outputs": [
    {
     "name": "stdout",
     "output_type": "stream",
     "text": [
      "{'name': 'sairam', 'age': 22, 'place': 'MBNR'}\n",
      "{'name': 'sairam', 'age': 22, 'place': 'MBNR'}\n"
     ]
    }
   ],
   "source": [
    "#47. WAS to modify the specific value in the given dict.\n",
    "a={'name': 'sairam', 'age': 22, 'place': 'MBNR'}\n",
    "a['name']='sairam'\n",
    "print(a)\n",
    "#OR\n",
    "a={'name': 'shahed', 'age': 22, 'place': 'MBNR'}\n",
    "a|={'name':'sairam'}\n",
    "print(a)\n"
   ]
  },
  {
   "cell_type": "code",
   "execution_count": 7,
   "metadata": {},
   "outputs": [
    {
     "name": "stdout",
     "output_type": "stream",
     "text": [
      "['a', 'b', 'c', 'd', 'e', 'f']\n",
      "('a', 'b', 'c', 'd', 'e', 'f')\n"
     ]
    }
   ],
   "source": [
    "#48. WAS to concat the list value and tuple value by using Type casting.\n",
    "#Converting LIST to TUPLE\n",
    "l=['a','b','c']\n",
    "t=('d','e','f')\n",
    "l=l+list(t)\n",
    "print(l)\n",
    "#Converting TUPLE to LIST\n",
    "l=['a','b','c']\n",
    "t=('d','e','f')\n",
    "t=tuple(l)+t\n",
    "print(t)\n"
   ]
  },
  {
   "cell_type": "code",
   "execution_count": 8,
   "metadata": {},
   "outputs": [
    {
     "name": "stdout",
     "output_type": "stream",
     "text": [
      "['a', 'b', 'c', 'd', 'e', 'f']\n"
     ]
    }
   ],
   "source": [
    "#49. WAS to concat the list and tuple value without using Type casting.\n",
    "l=['a','b','c']\n",
    "t=('d','e','f')\n",
    "l+=t\n",
    "print(l)\n"
   ]
  },
  {
   "cell_type": "code",
   "execution_count": 9,
   "metadata": {},
   "outputs": [
    {
     "name": "stdout",
     "output_type": "stream",
     "text": [
      "True\n"
     ]
    }
   ],
   "source": [
    "#50. WAS to check given number is divisible by 3.\n",
    "a=27\n",
    "print(a%3==0)\n"
   ]
  },
  {
   "cell_type": "code",
   "execution_count": 10,
   "metadata": {},
   "outputs": [
    {
     "name": "stdout",
     "output_type": "stream",
     "text": [
      "True\n"
     ]
    }
   ],
   "source": [
    "#51. WAS to check the given number is divisble by 2 and 6.\n",
    "a=24\n",
    "print(a%2==0 and a%6==0)\n"
   ]
  },
  {
   "cell_type": "code",
   "execution_count": 11,
   "metadata": {},
   "outputs": [
    {
     "name": "stdout",
     "output_type": "stream",
     "text": [
      "6\n",
      "26\n"
     ]
    }
   ],
   "source": [
    "#52. (A) WAS to extract the last digit in the given integer number(without Type casting)\n",
    "a=126\n",
    "print(a%10)\n",
    "# (B) Extract last two digits\n",
    "a=126\n",
    "print(a%100)"
   ]
  },
  {
   "cell_type": "code",
   "execution_count": 12,
   "metadata": {},
   "outputs": [
    {
     "name": "stdout",
     "output_type": "stream",
     "text": [
      "True\n"
     ]
    }
   ],
   "source": [
    "#53. WAS to check the last digit is divisble by 3 from given integer number.(without type casting)\n",
    "a=126\n",
    "print((a%10)%3==0)"
   ]
  },
  {
   "cell_type": "code",
   "execution_count": 13,
   "metadata": {},
   "outputs": [
    {
     "name": "stdout",
     "output_type": "stream",
     "text": [
      "True\n"
     ]
    }
   ],
   "source": [
    "#54. WAS to check the last digit is divisible by 3 from given number(without Type casting)\n",
    "a=126\n",
    "print(int(str(a)[-1])%3==0)\n"
   ]
  },
  {
   "cell_type": "code",
   "execution_count": 14,
   "metadata": {},
   "outputs": [
    {
     "name": "stdout",
     "output_type": "stream",
     "text": [
      "True\n"
     ]
    },
    {
     "data": {
      "text/plain": [
       "'True'"
      ]
     },
     "execution_count": 14,
     "metadata": {},
     "output_type": "execute_result"
    }
   ],
   "source": [
    "#55. WAS to check the given number is greater than 150.\n",
    "a=165\n",
    "print(a>150)\n",
    "#OR\n",
    "a=165\n",
    "['False','True'][a>150]\n"
   ]
  },
  {
   "cell_type": "code",
   "execution_count": 15,
   "metadata": {},
   "outputs": [
    {
     "name": "stdout",
     "output_type": "stream",
     "text": [
      "True\n"
     ]
    },
    {
     "data": {
      "text/plain": [
       "'True'"
      ]
     },
     "execution_count": 15,
     "metadata": {},
     "output_type": "execute_result"
    }
   ],
   "source": [
    "#56. WAS to check the given number is greater than or equal to 100.\n",
    "a=165\n",
    "print(a>=100)\n",
    "#OR\n",
    "a=165\n",
    "['False','True'][a>=100]\n"
   ]
  },
  {
   "cell_type": "code",
   "execution_count": 16,
   "metadata": {},
   "outputs": [
    {
     "name": "stdout",
     "output_type": "stream",
     "text": [
      "True\n"
     ]
    }
   ],
   "source": [
    "#57. WAS to check the given number is less than 150,print the result.\n",
    "a=100\n",
    "print(a<150)\n"
   ]
  },
  {
   "cell_type": "code",
   "execution_count": 17,
   "metadata": {},
   "outputs": [
    {
     "name": "stdout",
     "output_type": "stream",
     "text": [
      "True\n"
     ]
    }
   ],
   "source": [
    "#58. WAS to check the given number is less than or equal to 100.\n",
    "a=100\n",
    "print(a<=100)"
   ]
  },
  {
   "cell_type": "code",
   "execution_count": 19,
   "metadata": {},
   "outputs": [
    {
     "name": "stdout",
     "output_type": "stream",
     "text": [
      "True\n"
     ]
    }
   ],
   "source": [
    "#59. WAS to check the given number is greater than 15 and less than 24.\n",
    "a=20\n",
    "print(a>15 and a<24)\n"
   ]
  },
  {
   "cell_type": "code",
   "execution_count": 20,
   "metadata": {},
   "outputs": [
    {
     "name": "stdout",
     "output_type": "stream",
     "text": [
      "True\n"
     ]
    }
   ],
   "source": [
    "#60.WAS to check the given number is EVEN.\n",
    "a=200\n",
    "print(a%2==0)"
   ]
  },
  {
   "cell_type": "code",
   "execution_count": 21,
   "metadata": {},
   "outputs": [
    {
     "name": "stdout",
     "output_type": "stream",
     "text": [
      "True\n"
     ]
    }
   ],
   "source": [
    "#61. WAS to check the given number is ODD.\n",
    "a=201\n",
    "print(a%2!=0)\n"
   ]
  },
  {
   "cell_type": "code",
   "execution_count": 22,
   "metadata": {},
   "outputs": [
    {
     "name": "stdout",
     "output_type": "stream",
     "text": [
      "abcabcabcabcabcabc\n",
      "[1, 2, 3, 1, 2, 3, 1, 2, 3, 1, 2, 3, 1, 2, 3, 1, 2, 3]\n"
     ]
    }
   ],
   "source": [
    "#62. Write An Equation(WAE) to check perform the replication of a given string with 6.\n",
    "a='abc'\n",
    "a=a*6\n",
    "print(a)\n",
    "b=[1,2,3]\n",
    "b=b*6\n",
    "print(b)"
   ]
  },
  {
   "cell_type": "code",
   "execution_count": 23,
   "metadata": {},
   "outputs": [
    {
     "name": "stdout",
     "output_type": "stream",
     "text": [
      "True\n"
     ]
    }
   ],
   "source": [
    "#63. WAE to check the given number is divisible by 3 and also the number is greater than 22.\n",
    "a=27\n",
    "print(a%3==0 and a>22)\n"
   ]
  },
  {
   "cell_type": "code",
   "execution_count": 24,
   "metadata": {},
   "outputs": [
    {
     "name": "stdout",
     "output_type": "stream",
     "text": [
      "False\n"
     ]
    }
   ],
   "source": [
    "#64. WAE to check perform the length of the collection is EVEN or ODD.\n",
    "a='pyspiders'\n",
    "print(len(a)%2==0)\n"
   ]
  },
  {
   "cell_type": "code",
   "execution_count": 25,
   "metadata": {},
   "outputs": [
    {
     "name": "stdout",
     "output_type": "stream",
     "text": [
      "True\n"
     ]
    },
    {
     "data": {
      "text/plain": [
       "True"
      ]
     },
     "execution_count": 25,
     "metadata": {},
     "output_type": "execute_result"
    }
   ],
   "source": [
    "#65. WAE to check perform the length of the collection less than 55 and greater than 16.\n",
    "a='abcdefghijklmnopqrstuvwxyz'\n",
    "print(len(a)<55 and len(a)>16)\n",
    "#OR\n",
    "a='abcdefghijklmnopqrstuvwxyz'\n",
    "16<len(a)<55\n"
   ]
  },
  {
   "cell_type": "code",
   "execution_count": 26,
   "metadata": {},
   "outputs": [
    {
     "name": "stdout",
     "output_type": "stream",
     "text": [
      "False\n"
     ]
    }
   ],
   "source": [
    "#66. WAE to check perform the length of the collection is divisible by 5 and odd.\n",
    "a='abcdefghijklmnopqrstuvwxyz'\n",
    "print(len(a)%5==0 and len(a)%2!=0)"
   ]
  },
  {
   "cell_type": "code",
   "execution_count": 27,
   "metadata": {},
   "outputs": [
    {
     "name": "stdout",
     "output_type": "stream",
     "text": [
      "True\n"
     ]
    }
   ],
   "source": [
    "#67. WAE to check extract the middle position of a given collection is either str,list,tuple.\n",
    "s=[10,('a','b'),[10,20]]\n",
    "res=type(s[len(s)//2])\n",
    "print(res in [str,list,tuple])\n"
   ]
  },
  {
   "cell_type": "code",
   "execution_count": 28,
   "metadata": {},
   "outputs": [
    {
     "name": "stdout",
     "output_type": "stream",
     "text": [
      "True\n"
     ]
    }
   ],
   "source": [
    "#68. WAE to check the given number is greater than 20 and less than 30 and it should be even.\n",
    "a=26\n",
    "print(20<a<30 and a%2==0)"
   ]
  },
  {
   "cell_type": "code",
   "execution_count": 29,
   "metadata": {},
   "outputs": [
    {
     "name": "stdout",
     "output_type": "stream",
     "text": [
      "True\n"
     ]
    }
   ],
   "source": [
    "#69. WAE to  check the given number is even and it should be less than 120.\n",
    "a=100\n",
    "print(a<120 and a%2==0)\n"
   ]
  },
  {
   "cell_type": "code",
   "execution_count": 30,
   "metadata": {},
   "outputs": [
    {
     "name": "stdout",
     "output_type": "stream",
     "text": [
      "True\n"
     ]
    }
   ],
   "source": [
    "#70. WAE to check the given number is even and present from 40 to 70.\n",
    "a=60\n",
    "print(a%2==0 and 40<a<70)"
   ]
  },
  {
   "cell_type": "code",
   "execution_count": 31,
   "metadata": {},
   "outputs": [
    {
     "name": "stdout",
     "output_type": "stream",
     "text": [
      "True\n"
     ]
    }
   ],
   "source": [
    "#71. WAE to check the given number is odd and should be greater than 97.\n",
    "a=99\n",
    "print(a%2!=0 and a>97)"
   ]
  },
  {
   "cell_type": "code",
   "execution_count": 32,
   "metadata": {},
   "outputs": [
    {
     "name": "stdout",
     "output_type": "stream",
     "text": [
      "True\n"
     ]
    }
   ],
   "source": [
    "#72. WAE to check the given number is less than 122 and greater than 48 and the number should be divisible by 4.\n",
    "a=60\n",
    "print(48<a<122 and a%4==0)"
   ]
  },
  {
   "cell_type": "code",
   "execution_count": 33,
   "metadata": {},
   "outputs": [
    {
     "name": "stdout",
     "output_type": "stream",
     "text": [
      "True\n"
     ]
    }
   ],
   "source": [
    "#73. WAE to check the given number is divisible by 3 or 5,displaying the value.\n",
    "a=15\n",
    "print(a%3==0 or a%5==0)"
   ]
  },
  {
   "cell_type": "code",
   "execution_count": 34,
   "metadata": {},
   "outputs": [
    {
     "name": "stdout",
     "output_type": "stream",
     "text": [
      "True\n"
     ]
    }
   ],
   "source": [
    "#74. WAE to check the given number is between 100 to 200 including the limit.\n",
    "a=150\n",
    "print(100<=a<=200)\n"
   ]
  },
  {
   "cell_type": "code",
   "execution_count": 35,
   "metadata": {},
   "outputs": [
    {
     "name": "stdout",
     "output_type": "stream",
     "text": [
      "True\n"
     ]
    }
   ],
   "source": [
    "#75. WAE to check the given number is in between 100 to 200.\n",
    "a=199\n",
    "print(100<a<200)\n"
   ]
  },
  {
   "cell_type": "code",
   "execution_count": 36,
   "metadata": {},
   "outputs": [
    {
     "name": "stdout",
     "output_type": "stream",
     "text": [
      "False\n"
     ]
    }
   ],
   "source": [
    "#76. WAE to check the given string last character ASCII value should be divisible by 5 or not.\n",
    "a='apple'\n",
    "print(ord(a[-1])%5==0)"
   ]
  },
  {
   "cell_type": "code",
   "execution_count": 37,
   "metadata": {},
   "outputs": [
    {
     "name": "stdout",
     "output_type": "stream",
     "text": [
      "False\n",
      "True\n"
     ]
    }
   ],
   "source": [
    " #77. (A) WAE to check the given number is present 60 and 130 and the number should be divisible by 3 and 4 and the last digit should be greater than 9.\n",
    "a=120\n",
    "print(60<=a<=130 and a%3==0 and a%4==0 and a%10>9 ) \n",
    "#(B) WAE to check the given number is present 60 and 130 and the number should be divisible by 3 and 4 and the last digit should be less than 9.\n",
    "a=120\n",
    "print(60<=a<=130 and a%3==0 and a%4==0 and a%10<9 )"
   ]
  },
  {
   "cell_type": "code",
   "execution_count": 39,
   "metadata": {},
   "outputs": [
    {
     "name": "stdout",
     "output_type": "stream",
     "text": [
      "True\n"
     ]
    }
   ],
   "source": [
    "#78. WAE to check the given number is Even or less than 25.\n",
    "a=18\n",
    "print(a%2==0 or a<25)"
   ]
  },
  {
   "cell_type": "code",
   "execution_count": 40,
   "metadata": {},
   "outputs": [
    {
     "name": "stdout",
     "output_type": "stream",
     "text": [
      "True\n"
     ]
    }
   ],
   "source": [
    "#79. WAE to check the given number is Even or greater than 25.\n",
    "a=18\n",
    "print(a%2==0 or a>25)\n"
   ]
  },
  {
   "cell_type": "code",
   "execution_count": 41,
   "metadata": {},
   "outputs": [
    {
     "name": "stdout",
     "output_type": "stream",
     "text": [
      "True\n"
     ]
    }
   ],
   "source": [
    "#80. WAE to check the given number is divisible by 3 or 5.\n",
    "a=27\n",
    "print(a%3==0 or a%5==0)"
   ]
  },
  {
   "cell_type": "code",
   "execution_count": 42,
   "metadata": {},
   "outputs": [
    {
     "name": "stdout",
     "output_type": "stream",
     "text": [
      "True\n"
     ]
    }
   ],
   "source": [
    "#81. WAE to check the given number is not an Even Number.\n",
    "a=25\n",
    "print((a)%2!=0)\n"
   ]
  },
  {
   "cell_type": "code",
   "execution_count": null,
   "metadata": {},
   "outputs": [],
   "source": []
  }
 ],
 "metadata": {
  "kernelspec": {
   "display_name": "Python 3",
   "language": "python",
   "name": "python3"
  },
  "language_info": {
   "codemirror_mode": {
    "name": "ipython",
    "version": 3
   },
   "file_extension": ".py",
   "mimetype": "text/x-python",
   "name": "python",
   "nbconvert_exporter": "python",
   "pygments_lexer": "ipython3",
   "version": "3.11.4"
  },
  "orig_nbformat": 4
 },
 "nbformat": 4,
 "nbformat_minor": 2
}
