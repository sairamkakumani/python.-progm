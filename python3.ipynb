{
 "cells": [
  {
   "cell_type": "code",
   "execution_count": 10,
   "metadata": {},
   "outputs": [
    {
     "name": "stdout",
     "output_type": "stream",
     "text": [
      "positve\n"
     ]
    }
   ],
   "source": [
    "#1. WAP to check whether a number is positive. If Positive, print a message Positive.\n",
    "a=10\n",
    "if(a>=0):\n",
    "    print(\"positve\")\n"
   ]
  },
  {
   "cell_type": "code",
   "execution_count": 8,
   "metadata": {},
   "outputs": [
    {
     "name": "stdout",
     "output_type": "stream",
     "text": [
      "hello world\n"
     ]
    }
   ],
   "source": [
    "#2. was to display hello if the number is greater than 1 and lesser than 5\n",
    "n=4\n",
    "if 1<=n<5:\n",
    "    print('hello world')"
   ]
  },
  {
   "cell_type": "code",
   "execution_count": 9,
   "metadata": {},
   "outputs": [
    {
     "name": "stdout",
     "output_type": "stream",
     "text": [
      "fizz\n"
     ]
    }
   ],
   "source": [
    "#3. was to check whether given number is divisible by 3 or not if print fizz\n",
    "n=33\n",
    "if n%3==0:\n",
    "    print('fizz')"
   ]
  },
  {
   "cell_type": "code",
   "execution_count": 11,
   "metadata": {},
   "outputs": [
    {
     "name": "stdout",
     "output_type": "stream",
     "text": [
      "n\n"
     ]
    }
   ],
   "source": [
    "#4.WAs to check whether given input is divisible by 2 and 6\n",
    "n=12\n",
    "if n%2==0 and n%6==0:\n",
    "    print('n')"
   ]
  },
  {
   "cell_type": "code",
   "execution_count": 15,
   "metadata": {},
   "outputs": [
    {
     "name": "stdout",
     "output_type": "stream",
     "text": [
      "['3', '0']\n"
     ]
    }
   ],
   "source": [
    "#5.WAP to check whether a given input is divisible by 3 or 5. If the condition is satisfied, the number is converted to a list.\n",
    "# i/p: 30\n",
    "# o/p:[‘3’,’0’]\n",
    "n=30\n",
    "if n%3==0 and n%5==0:\n",
    "    n=str(n)\n",
    "    print(list(n))"
   ]
  },
  {
   "cell_type": "code",
   "execution_count": 17,
   "metadata": {},
   "outputs": [
    {
     "name": "stdout",
     "output_type": "stream",
     "text": [
      "multiple of 5\n"
     ]
    }
   ],
   "source": [
    "#6.Write a program to check whether a given number is multiple of 5 or not.\n",
    "n=30\n",
    "if n%5==0:\n",
    "    print('multiple of 5')"
   ]
  },
  {
   "cell_type": "code",
   "execution_count": 18,
   "metadata": {},
   "outputs": [
    {
     "name": "stdout",
     "output_type": "stream",
     "text": [
      "0\n"
     ]
    }
   ],
   "source": [
    "#7.WAP to check whether the given input is 0 or not if 0 prints 0.\n",
    "n=0\n",
    "if n==0:\n",
    "    print(0)"
   ]
  },
  {
   "cell_type": "code",
   "execution_count": 19,
   "metadata": {},
   "outputs": [
    {
     "name": "stdout",
     "output_type": "stream",
     "text": [
      "negativie\n"
     ]
    }
   ],
   "source": [
    "#8.WAP to check whether a number is negative. If negative, print a message negative.\n",
    "n=-6\n",
    "if n<0:\n",
    "    print('negativie')"
   ]
  },
  {
   "cell_type": "code",
   "execution_count": 20,
   "metadata": {},
   "outputs": [
    {
     "name": "stdout",
     "output_type": "stream",
     "text": [
      "[6]\n"
     ]
    }
   ],
   "source": [
    "#9.WAP to check whether a number is even or not. If even, store the value inside the list.\n",
    "n=6\n",
    "l=[]\n",
    "if n%2==0:\n",
    "    l.append(n)\n",
    "    print(l)"
   ]
  },
  {
   "cell_type": "code",
   "execution_count": 22,
   "metadata": {},
   "outputs": [
    {
     "name": "stdout",
     "output_type": "stream",
     "text": [
      "(7,)\n"
     ]
    }
   ],
   "source": [
    "#10.WAP to check whether a number is odd or not. If odd, store the value inside the tuple.\n",
    "n=7\n",
    "l=[]\n",
    "if n%2!=0:\n",
    "    l.append(n)\n",
    "    t=tuple(l)\n",
    "    print(t)\n"
   ]
  },
  {
   "cell_type": "code",
   "execution_count": 23,
   "metadata": {},
   "outputs": [
    {
     "name": "stdout",
     "output_type": "stream",
     "text": [
      "256\n"
     ]
    }
   ],
   "source": [
    "#11.WAP to check if the given number is even or not. if it is yes, to print the power of 4 in a given number.\n",
    "n=4\n",
    "if n%2==0:\n",
    "    print(n**4)"
   ]
  },
  {
   "cell_type": "code",
   "execution_count": 25,
   "metadata": {},
   "outputs": [
    {
     "name": "stdout",
     "output_type": "stream",
     "text": [
      "9\n"
     ]
    }
   ],
   "source": [
    "#12.WAP to take the input from the user as a number and check whether it is a number or not. \n",
    "n=7\n",
    "if n>5:\n",
    "    print(n+2)"
   ]
  },
  {
   "cell_type": "code",
   "execution_count": 26,
   "metadata": {},
   "outputs": [
    {
     "name": "stdout",
     "output_type": "stream",
     "text": [
      "4\n"
     ]
    }
   ],
   "source": [
    "#13.WAP to display hello world if the number is greater than 1 and lesser than 5\n",
    "n=4\n",
    "if n>1 and n<5:\n",
    "    print(n)"
   ]
  },
  {
   "cell_type": "code",
   "execution_count": 27,
   "metadata": {},
   "outputs": [
    {
     "name": "stdout",
     "output_type": "stream",
     "text": [
      "1225\n"
     ]
    }
   ],
   "source": [
    "#14.WAP to check whether a given value is divisible by 5 and 7. If the value is divisible,to display the square of the values.\n",
    "n=35\n",
    "if n%5==0 and n%7==0:\n",
    "    print(n**2)"
   ]
  },
  {
   "cell_type": "code",
   "execution_count": 1,
   "metadata": {},
   "outputs": [
    {
     "name": "stdout",
     "output_type": "stream",
     "text": [
      "37\n"
     ]
    }
   ],
   "source": [
    "#15.WAP to check whether the given value's last digit is greater than 5 or not.if greater, to perform the bitwise right shift operator (skipping value is 2)\n",
    "a=149\n",
    "b=a>>2\n",
    "if a%10>5:\n",
    "    print(b)"
   ]
  },
  {
   "cell_type": "code",
   "execution_count": 3,
   "metadata": {},
   "outputs": [
    {
     "name": "stdout",
     "output_type": "stream",
     "text": [
      "576\n"
     ]
    }
   ],
   "source": [
    "#16.WAP to check whether a given value is divisible by 3 and less than 30. If the value is divisible,to display the square of the values\n",
    "a=24\n",
    "if a%3==0 and a<30:\n",
    "   print(a*a)"
   ]
  },
  {
   "cell_type": "code",
   "execution_count": 4,
   "metadata": {},
   "outputs": [
    {
     "name": "stdout",
     "output_type": "stream",
     "text": [
      "4096\n"
     ]
    }
   ],
   "source": [
    "#17.wAP to check whether a given value is an even number and divisible by 4. If satisfied ,to display the cube of the values.\n",
    "a=16\n",
    "if(a%4==0):\n",
    "    print(a**3)\n"
   ]
  },
  {
   "cell_type": "code",
   "execution_count": 5,
   "metadata": {},
   "outputs": [
    {
     "name": "stdout",
     "output_type": "stream",
     "text": [
      "[6]\n"
     ]
    }
   ],
   "source": [
    "#18.WAP to check whether a given value is even or not. If the even number stores the value inside the list.\n",
    "a=6\n",
    "l=[]\n",
    "if(a%2==0):\n",
    "     l.append(a)\n",
    "     print(l)\n"
   ]
  },
  {
   "cell_type": "code",
   "execution_count": 6,
   "metadata": {},
   "outputs": [
    {
     "name": "stdout",
     "output_type": "stream",
     "text": [
      "6\n",
      "0\n"
     ]
    }
   ],
   "source": [
    "#19.WAP to check whether a given value is a negative or even number. If satisfied ,to display the last digit of the values.\n",
    "a=16\n",
    "if(a<0 or a%2==0):\n",
    "    print(a%10)\n",
    "    #or\n",
    "    a=20\n",
    "    if(a<0 or a%2!=1):\n",
    "        print(a%10)\n"
   ]
  },
  {
   "cell_type": "code",
   "execution_count": 7,
   "metadata": {},
   "outputs": [
    {
     "name": "stdout",
     "output_type": "stream",
     "text": [
      "-64\n"
     ]
    }
   ],
   "source": [
    "#20.WAP to check whether a given value is a negative or odd number and divisible by 4. If satisfied ,to display the cube of the values.\n",
    "a=-4\n",
    "if(a<0 or a%2!=0):\n",
    "    print(a**3)\n"
   ]
  },
  {
   "cell_type": "code",
   "execution_count": 8,
   "metadata": {},
   "outputs": [
    {
     "name": "stdout",
     "output_type": "stream",
     "text": [
      "D\n"
     ]
    }
   ],
   "source": [
    "#21.WAP to check whether a given ascii value is divisible by 4 and even value. If satisfied, to display the ascii character.\n",
    "a=68\n",
    "if(a%4==0):\n",
    "    print(chr(a))\n"
   ]
  },
  {
   "cell_type": "code",
   "execution_count": 9,
   "metadata": {},
   "outputs": [
    {
     "name": "stdout",
     "output_type": "stream",
     "text": [
      "x\n",
      "<\n",
      "P\n",
      "d\n"
     ]
    }
   ],
   "source": [
    "#22.WAP to check whether a given value is present in between 45 to 125 and the number should be divisible by 4 and 5 and even value. If satisfied, to display the ascii character.\n",
    "a=120\n",
    "if(45<=a<125 and a%4==0 and a%5==0):\n",
    "    print(chr(a))\n",
    "    #or\n",
    "    a=60\n",
    "if(45<=a<125 and a%4==0 and a%5==0):\n",
    "    print(chr(a))\n",
    "    #or\n",
    "    a=80\n",
    "if(45<=a<125 and a%4==0 and a%5==0):\n",
    "    print(chr(a))\n",
    "    #or\n",
    "    a=100\n",
    "if(45<=a<125 and a%4==0 and a%5==0):\n",
    "    print(chr(a))\n"
   ]
  },
  {
   "cell_type": "code",
   "execution_count": 10,
   "metadata": {},
   "outputs": [
    {
     "name": "stdout",
     "output_type": "stream",
     "text": [
      "400\n"
     ]
    }
   ],
   "source": [
    "#23.WAP to check whether a given value is present in between 25 to 100 and the number should be divisible by 4 and 5. If satisfied, to display multiplication of given value with 5.\n",
    "a=80\n",
    "if(25<=a<100 and a%4==0 and a%5==0):\n",
    "    print(a*5)\n"
   ]
  },
  {
   "cell_type": "code",
   "execution_count": 11,
   "metadata": {},
   "outputs": [
    {
     "name": "stdout",
     "output_type": "stream",
     "text": [
      "45\n"
     ]
    }
   ],
   "source": [
    "#24.WAP to check whether a given number is an integer and odd number. If the condition is satisfied, the integer is divisible by 5 and displays the result.\n",
    "a=9\n",
    "if(type(a) and a%2!=0):\n",
    "    print(a*5)\n"
   ]
  },
  {
   "cell_type": "code",
   "execution_count": 12,
   "metadata": {},
   "outputs": [
    {
     "name": "stdout",
     "output_type": "stream",
     "text": [
      "9\n"
     ]
    }
   ],
   "source": [
    "#25.WAP to check whether a given value is an integer or not. If integer, the given value is converted to string and displays the result.\n",
    "a=9\n",
    "if(type(a)):\n",
    "    print(str(a))\n"
   ]
  },
  {
   "cell_type": "code",
   "execution_count": 13,
   "metadata": {},
   "outputs": [
    {
     "name": "stdout",
     "output_type": "stream",
     "text": [
      "120\n",
      "i\n"
     ]
    }
   ],
   "source": [
    "#26.WAP to check whether a given value is less than 125 and greater than 60 or not. If the condition is satisfied, take the name and extract the middle character and display it.\n",
    "a=120\n",
    "b=\"lalith\" \n",
    "if(60<=a<125):\n",
    "\n",
    "    print(a)\n",
    "    print(b [len(b)//2])"
   ]
  },
  {
   "cell_type": "code",
   "execution_count": 15,
   "metadata": {},
   "outputs": [
    {
     "name": "stdout",
     "output_type": "stream",
     "text": [
      "20\n"
     ]
    }
   ],
   "source": [
    "#27.WAP to check whether a given two integers are equal or not. If both are equal, to perform addition and display the result.\n",
    "a=10\n",
    "b=10\n",
    "if(a==b):\n",
    "    print(a+b)\n"
   ]
  },
  {
   "cell_type": "code",
   "execution_count": 16,
   "metadata": {},
   "outputs": [
    {
     "name": "stdout",
     "output_type": "stream",
     "text": [
      "1\n"
     ]
    }
   ],
   "source": [
    "#28.WAP to check whether two values are equal or not. if equal, to perform multiplication of two numbers and that result is division by 3 and display the value\n",
    "a=5\n",
    "b=5\n",
    "if(a==b):\n",
    "    c=a*b\n",
    "    print(c%3)\n",
    "\n"
   ]
  },
  {
   "cell_type": "code",
   "execution_count": 17,
   "metadata": {},
   "outputs": [
    {
     "name": "stdout",
     "output_type": "stream",
     "text": [
      "{'A': 65}\n"
     ]
    }
   ],
   "source": [
    "#29.WAP to check whether a character is in the alphabet or not. If the alphabet, store the value inside the dict(key as a character and value as an ascii value).\n",
    "a=\"A\"\n",
    "\n",
    "d={}\n",
    "if ('a'<=a<='z' or 'A'<=a<='Z'):\n",
    "\td[a]=ord(a)\n",
    "print(d)\n"
   ]
  },
  {
   "cell_type": "code",
   "execution_count": 18,
   "metadata": {},
   "outputs": [
    {
     "name": "stdout",
     "output_type": "stream",
     "text": [
      "{'B': 66}\n"
     ]
    }
   ],
   "source": [
    "#30.WAP to check whether a character is in the uppercase or not. If the uppercase,store the value inside the dict(key as a character and value as an ascii value).\n",
    "a=\"B\"\n",
    "d={}\n",
    "if(a.upper):\n",
    "    d[a]=ord(a)\n",
    "print(d)    \n",
    "\n"
   ]
  },
  {
   "cell_type": "code",
   "execution_count": 19,
   "metadata": {},
   "outputs": [
    {
     "name": "stdout",
     "output_type": "stream",
     "text": [
      "{'b': 98}\n"
     ]
    }
   ],
   "source": [
    "#31.WAP to check whether a character is in the uppercase or not. If the uppercase, convert to lowercase and store the value inside the dict(character as a key and ascii value as a value).\n",
    "a=\"B\"\n",
    "a=a.lower()\n",
    "d={}\n",
    "if(\"a\"<=a<=\"z\"):\n",
    "    d[a]=ord(a)\n",
    "    print(d)\n"
   ]
  },
  {
   "cell_type": "code",
   "execution_count": 20,
   "metadata": {},
   "outputs": [
    {
     "name": "stdout",
     "output_type": "stream",
     "text": [
      "B\n"
     ]
    }
   ],
   "source": [
    "#32.WAP to check whether a character is in the lowercase or not. If the lowercase, to perform the replication operation on that character\n",
    "a=\"b\"\n",
    "if(a.islower()):\n",
    "    print(a.upper())\n"
   ]
  },
  {
   "cell_type": "code",
   "execution_count": 21,
   "metadata": {},
   "outputs": [
    {
     "name": "stdout",
     "output_type": "stream",
     "text": [
      "67\n"
     ]
    }
   ],
   "source": [
    "#33.WAP to check whether a character is in the ascii number or not. If the ascii number, to convert into integer\n",
    "a=\"C\"\n",
    "if(65<=ord(a)<=91):\n",
    "    print(ord(a))"
   ]
  }
 ],
 "metadata": {
  "kernelspec": {
   "display_name": "Python 3",
   "language": "python",
   "name": "python3"
  },
  "language_info": {
   "codemirror_mode": {
    "name": "ipython",
    "version": 3
   },
   "file_extension": ".py",
   "mimetype": "text/x-python",
   "name": "python",
   "nbconvert_exporter": "python",
   "pygments_lexer": "ipython3",
   "version": "3.11.4"
  },
  "orig_nbformat": 4
 },
 "nbformat": 4,
 "nbformat_minor": 2
}
